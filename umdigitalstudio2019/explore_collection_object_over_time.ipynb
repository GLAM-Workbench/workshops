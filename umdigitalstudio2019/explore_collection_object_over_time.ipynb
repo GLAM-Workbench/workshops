{
 "cells": [
  {
   "cell_type": "markdown",
   "metadata": {},
   "source": [
    "# Explore collection objects over time\n",
    "\n",
    "In this notebook we'll explore the temporal dimensions of the `object` data. When were objects created, collected, or used? To do that we'll extract the nested temporal data, see what's there, and create a few charts.\n",
    "\n",
    "[See here](exploring_object_records.ipynb) for an introduction to the `object` data, and [here to explore places](explore_objects_and_places.ipynb) associated with objects.\n",
    "\n",
    "If you haven't already, you'll either need to [harvest the `object` data](harvest_records.ipynb), or [unzip a pre-harvested dataset](unzip_preharvested_data.ipynb)."
   ]
  },
  {
   "cell_type": "markdown",
   "metadata": {},
   "source": [
    "<div class=\"alert alert-block alert-warning\">\n",
    "<p>If you haven't used one of these notebooks before, they're basically web pages in which you can write, edit, and run live code. They're meant to encourage experimentation, so don't feel nervous. Just try running a few cells and see what happens!</p>\n",
    "\n",
    "<p>\n",
    "    Some tips:\n",
    "    <ul>\n",
    "        <li>Code cells have boxes around them.</li>\n",
    "        <li>To run a code cell click on the cell and then hit <b>Shift+Enter</b>. The <b>Shift+Enter</b> combo will also move you to the next cell, so it's a quick way to work through the notebook.</li>\n",
    "        <li>While a cell is running a <b>*</b> appears in the square brackets next to the cell. Once the cell has finished running the asterix will be replaced with a number.</li>\n",
    "        <li>In most cases you'll want to start from the top of notebook and work your way down running each cell in turn. Later cells might depend on the results of earlier ones.</li>\n",
    "        <li>To edit a code cell, just click on it and type stuff. Remember to run the cell once you've finished editing.</li>\n",
    "    </ul>\n",
    "</p>\n",
    "\n",
    "<p><b>Is this thing on?</b> If you can't edit or run any of the code cells, you might be viewing a static (read only) version of this notebook. Click here to <a href=\"https://mybinder.org/v2/gh/GLAM-Workbench/national-museum-australia/master?urlpath=lab%2Ftree%2Fexplore_collection_object_over_time.ipynb\">load a <b>live</b> version</a> running on Binder.</p>\n",
    "\n",
    "</div>"
   ]
  },
  {
   "cell_type": "markdown",
   "metadata": {},
   "source": [
    "## Import what we need"
   ]
  },
  {
   "cell_type": "code",
   "execution_count": null,
   "metadata": {},
   "outputs": [],
   "source": [
    "import pandas as pd\n",
    "import ipywidgets as widgets\n",
    "from tinydb import TinyDB, Query\n",
    "from pandas.io.json import json_normalize\n",
    "import altair as alt\n",
    "from IPython.display import display, HTML, FileLink\n",
    "alt.data_transformers.enable('json')"
   ]
  },
  {
   "cell_type": "code",
   "execution_count": null,
   "metadata": {},
   "outputs": [],
   "source": [
    "# Are you using JupyterLab or the classic Jupyter notebook?\n",
    "# If you're using the classic notebook, uncomment the following line to make sure Altair charts appear as expected!\n",
    "\n",
    "alt.renderers.enable('notebook')"
   ]
  },
  {
   "cell_type": "markdown",
   "metadata": {},
   "source": [
    "## Load the harvested data"
   ]
  },
  {
   "cell_type": "code",
   "execution_count": null,
   "metadata": {},
   "outputs": [],
   "source": [
    "# Load JSON data from file\n",
    "db = TinyDB('nma_object_db.json')\n",
    "records = db.all()\n",
    "Object = Query()"
   ]
  },
  {
   "cell_type": "code",
   "execution_count": null,
   "metadata": {},
   "outputs": [],
   "source": [
    "# Convert to a dataframe\n",
    "df = pd.DataFrame(records)"
   ]
  },
  {
   "cell_type": "markdown",
   "metadata": {},
   "source": [
    "## Extract the nested events data\n",
    "\n",
    "Events are linked to objects through the `temporal` field. This field contains nested data that we need to extract and flatten so we can work with it easily. We'll use `json_normalize` to extract the nested data and save each event to a new row."
   ]
  },
  {
   "cell_type": "code",
   "execution_count": null,
   "metadata": {},
   "outputs": [],
   "source": [
    "# Use json_normalise() to explode the temporal into multiple rows and columns\n",
    "# Then merge the exploded rows back with the original dataset using the id value\n",
    "# df_dates = pd.merge(df.loc[df['temporal'].notnull()], json_normalize(df.loc[df['temporal'].notnull()].to_dict('records'), record_path='temporal', meta=['id'], record_prefix='temporal_'), how='inner', on='id')\n",
    "df_dates = json_normalize(df.loc[df['temporal'].notnull()].to_dict('records'), record_path='temporal', meta=['id', 'title', 'additionalType'], record_prefix='temporal_')\n",
    "df_dates.head()"
   ]
  },
  {
   "cell_type": "markdown",
   "metadata": {},
   "source": [
    "Now instead of having one row for each object, we have one row for each object event.\n",
    "\n",
    "How many date records do we have?"
   ]
  },
  {
   "cell_type": "code",
   "execution_count": null,
   "metadata": {},
   "outputs": [],
   "source": [
    "df_dates.shape"
   ]
  },
  {
   "cell_type": "markdown",
   "metadata": {},
   "source": [
    "## Exploring events"
   ]
  },
  {
   "cell_type": "markdown",
   "metadata": {},
   "source": [
    "Let's extract years from the dates to make comparisons a bit easier."
   ]
  },
  {
   "cell_type": "code",
   "execution_count": null,
   "metadata": {},
   "outputs": [],
   "source": [
    "# Use a regular expression to find the first four digits in the date fields\n",
    "df_dates['start_year'] = df_dates['temporal_startDate'].str.extract(r'^(\\d{4})').fillna(0).astype('int')\n",
    "df_dates['end_year'] = df_dates['temporal_endDate'].str.extract(r'^(\\d{4})').fillna(0).astype('int')"
   ]
  },
  {
   "cell_type": "markdown",
   "metadata": {},
   "source": [
    "What's the earliest `start_year` (greater than 0)?"
   ]
  },
  {
   "cell_type": "code",
   "execution_count": null,
   "metadata": {},
   "outputs": [],
   "source": [
    "df_dates.loc[df_dates['start_year'] > 0]['start_year'].min()"
   ]
  },
  {
   "cell_type": "markdown",
   "metadata": {},
   "source": [
    "What is it?"
   ]
  },
  {
   "cell_type": "code",
   "execution_count": null,
   "metadata": {},
   "outputs": [],
   "source": [
    "earliest = df_dates.loc[df_dates.loc[df_dates['start_year'] > 0]['start_year'].idxmin()]\n",
    "display(HTML('<a href=\"http://collectionsearch.nma.gov.au/?object={}\">{}</a>'.format(earliest['id'], earliest['title'])))"
   ]
  },
  {
   "cell_type": "markdown",
   "metadata": {},
   "source": [
    "What's the latest end date?"
   ]
  },
  {
   "cell_type": "code",
   "execution_count": null,
   "metadata": {},
   "outputs": [],
   "source": [
    "df_dates['end_year'].max()"
   ]
  },
  {
   "cell_type": "markdown",
   "metadata": {},
   "source": [
    "Oh, that doesn't look quite right! Let's look to see how many of the dates are in the future!"
   ]
  },
  {
   "cell_type": "code",
   "execution_count": null,
   "metadata": {},
   "outputs": [],
   "source": [
    "df_dates.loc[(df_dates['start_year'] > 2019) | (df_dates['end_year'] > 2019)]"
   ]
  },
  {
   "cell_type": "markdown",
   "metadata": {},
   "source": [
    "Looks like these records need some editing."
   ]
  },
  {
   "cell_type": "markdown",
   "metadata": {},
   "source": [
    "## Types of events"
   ]
  },
  {
   "cell_type": "markdown",
   "metadata": {},
   "source": [
    "Events are linked to objects in many different ways, they might document when the object was created, collected, or acquired by the museum. We can examine the types of relationships that have been documented between events and objects by looking in the `temporal_roleName` field."
   ]
  },
  {
   "cell_type": "code",
   "execution_count": null,
   "metadata": {},
   "outputs": [],
   "source": [
    "df_dates['temporal_roleName'].value_counts()"
   ]
  },
  {
   "cell_type": "markdown",
   "metadata": {},
   "source": [
    "Hmmm, you can see that data entry into this field wasn't closely controlled – there are a number of minor variations in capitalisation, format and word order. For example, we have: 'Date of production', 'Date of Production', 'Production date', and 'date of production'!\n",
    "\n",
    "Some normalisation has taken place though, because of the creation and production related events can be identified through the `temporal_interactionType` field. What sorts of values does it contain?"
   ]
  },
  {
   "cell_type": "code",
   "execution_count": null,
   "metadata": {},
   "outputs": [],
   "source": [
    "df_dates['temporal_interactionType'].value_counts()"
   ]
  },
  {
   "cell_type": "markdown",
   "metadata": {},
   "source": [
    "There's only one value – 'Production'. According to the [documentation](https://github.com/NationalMuseumAustralia/Collection-API/wiki/Searching-the-API#retrieving-objects-by-date-place-or-party), a value of 'Production' in `interactionType` indicates the event was related to the creation of the item. Let's look to see which of the values in `roleName` have been aggregated by the 'Production' value."
   ]
  },
  {
   "cell_type": "code",
   "execution_count": null,
   "metadata": {},
   "outputs": [],
   "source": [
    "df_dates.loc[(df_dates['temporal_interactionType'] == 'Production')]['temporal_roleName'].value_counts()"
   ]
  },
  {
   "cell_type": "markdown",
   "metadata": {},
   "source": [
    "So the `temporal_interactionType` field helps us find all the creation-related events without dealing with the variations in the ways event types are described. Yay for normalisation!"
   ]
  },
  {
   "cell_type": "markdown",
   "metadata": {},
   "source": [
    "## Creation dates"
   ]
  },
  {
   "cell_type": "markdown",
   "metadata": {},
   "source": [
    "Let's create a dataframe that contains just the creation dates."
   ]
  },
  {
   "cell_type": "code",
   "execution_count": null,
   "metadata": {},
   "outputs": [],
   "source": [
    "df_creation_dates = df_dates.loc[(df_dates['temporal_interactionType'] == 'Production')].copy()"
   ]
  },
  {
   "cell_type": "code",
   "execution_count": null,
   "metadata": {},
   "outputs": [],
   "source": [
    "df_creation_dates.shape"
   ]
  },
  {
   "cell_type": "markdown",
   "metadata": {},
   "source": [
    "One other thing to note is that not every event has a start date. Some just have an end date. To make sure we have at least one date for every event, let's create a new `year` column – we'll set its value to `start_year` if it exists, or `end_year` if not."
   ]
  },
  {
   "cell_type": "code",
   "execution_count": null,
   "metadata": {},
   "outputs": [],
   "source": [
    "df_creation_dates['year'] = df_creation_dates.apply(lambda x: x['start_year'] if x['start_year'] else x['end_year'], axis=1)"
   ]
  },
  {
   "cell_type": "markdown",
   "metadata": {},
   "source": [
    "Time to make a chart! Let's show how the creation events are distributed over time."
   ]
  },
  {
   "cell_type": "code",
   "execution_count": null,
   "metadata": {},
   "outputs": [],
   "source": [
    "# Create a bar chart (limit to years greater than 0)\n",
    "alt.Chart(df_creation_dates.loc[df_creation_dates['year'] > 0]).mark_bar(size=2).encode(\n",
    "    \n",
    "    # Year on the X axis\n",
    "    x=alt.X('year:Q', axis=alt.Axis(format='c', title='Year of production')),\n",
    "    \n",
    "    # Number of objects on the Y axis\n",
    "    y=alt.Y('count()', title='Number of objects'),\n",
    "    \n",
    "    # Show details on hover\n",
    "    tooltip=[alt.Tooltip('year:Q', title='Year'), alt.Tooltip('count():Q', title='Objects', format=',')]\n",
    ").properties(width=700)"
   ]
  },
  {
   "cell_type": "markdown",
   "metadata": {},
   "source": [
    "Ok, so something interesting was happening in 1980 and 1913. Let's see if we can find out what."
   ]
  },
  {
   "cell_type": "markdown",
   "metadata": {},
   "source": [
    "In another notebook I showed how you can [use the `additionalType` column](exploring_object_records.ipynb#The-additionalType-field) to find out about the types of things in the collection. Let's use it to see what types of objects were created in 1980.\n",
    "\n",
    "Let's explode `additionalType` and create a new dataframe with the results!"
   ]
  },
  {
   "cell_type": "code",
   "execution_count": null,
   "metadata": {},
   "outputs": [],
   "source": [
    "df_creation_dates_types = df_creation_dates.loc[df_creation_dates['additionalType'].notnull()][['id', 'title', 'year', 'additionalType']].explode('additionalType')\n",
    "df_creation_dates_types.head()"
   ]
  },
  {
   "cell_type": "markdown",
   "metadata": {},
   "source": [
    "Now we can filter by year to see what types of things were created in 1980."
   ]
  },
  {
   "cell_type": "code",
   "execution_count": null,
   "metadata": {},
   "outputs": [],
   "source": [
    "created_1980 = df_creation_dates_types.loc[df_creation_dates_types['year'] == 1980]\n",
    "created_1980.head()"
   ]
  },
  {
   "cell_type": "markdown",
   "metadata": {},
   "source": [
    "Let's look at the top twenty types of things created in 1980!"
   ]
  },
  {
   "cell_type": "code",
   "execution_count": null,
   "metadata": {},
   "outputs": [],
   "source": [
    "created_1980['additionalType'].value_counts()[:20]"
   ]
  },
  {
   "cell_type": "markdown",
   "metadata": {},
   "source": [
    "So the vast majority are either 'Engravings' or 'Mounts'. Let's look at one of the 'Engravings' in more detail."
   ]
  },
  {
   "cell_type": "code",
   "execution_count": null,
   "metadata": {},
   "outputs": [],
   "source": [
    "# Filter by Engravings\n",
    "created_1980.loc[created_1980['additionalType'] == 'Engravings'].head()"
   ]
  },
  {
   "cell_type": "code",
   "execution_count": null,
   "metadata": {},
   "outputs": [],
   "source": [
    "# Get the first item\n",
    "item = created_1980.loc[created_1980['additionalType'] == 'Engravings'].iloc[0]\n",
    "\n",
    "# Create a link to the collection db\n",
    "display(HTML('<a href=\"http://collectionsearch.nma.gov.au/?object={}\">{}</a>'.format(item['id'], item['title'])))"
   ]
  },
  {
   "cell_type": "markdown",
   "metadata": {},
   "source": [
    "If you follow the link you'll find that the engravings were created for a new publication of Banks' *Florilegium*.\n",
    "\n",
    "Can you repeat this process to find out what happened in 1913?"
   ]
  },
  {
   "cell_type": "markdown",
   "metadata": {},
   "source": [
    "## Creation dates by object type\n",
    "\n",
    "Now that we have a dataframe that combines creation dates with object types, we can look at how the creation of particular object types changes over time. For example let's look at 'Photographs' and 'Postcards'."
   ]
  },
  {
   "cell_type": "code",
   "execution_count": null,
   "metadata": {},
   "outputs": [],
   "source": [
    "# Create a dataframe containing just Photographs and Postcards -- use .isin() to filter the additionalType field\n",
    "df_photos_postcards = df_creation_dates_types.loc[(df_creation_dates_types['year'] > 0) & (df_creation_dates_types['additionalType'].isin(['Photographs', 'Postcards']))]\n",
    "\n",
    "# Create a stacked bar chart\n",
    "alt.Chart(df_photos_postcards).mark_bar(size=3).encode(\n",
    "    \n",
    "    # Year on the X axis\n",
    "    x=alt.X('year:Q', axis=alt.Axis(format='c', title='Year of production')),\n",
    "    \n",
    "    # Number of objects on the Y axis\n",
    "    y=alt.Y('count()', title='Number of objects'),\n",
    "    \n",
    "    # Color according to the type\n",
    "    color='additionalType:N',\n",
    "    \n",
    "    # Details on hover\n",
    "    tooltip=[alt.Tooltip('additionalType:N', title='Type'), alt.Tooltip('year:Q', title='Year'), alt.Tooltip('count():Q', title='Objects', format=',')]\n",
    ").properties(width=700)"
   ]
  },
  {
   "cell_type": "markdown",
   "metadata": {},
   "source": [
    "There's 1913 again... It's also interesting to see a shift from postcards to photos in the early decades of the 20th century.\n",
    "\n",
    "We could add additional types to this chart, but it will get a bit confusing. Let's try another way of charting changes in the creation of the most common object types over time.\n",
    "\n",
    "First we'll get the top twenty-five object types (which have creation dates) as a list."
   ]
  },
  {
   "cell_type": "code",
   "execution_count": null,
   "metadata": {},
   "outputs": [],
   "source": [
    "# Get most common 25 values and convert to a list\n",
    "top_types = df_creation_dates_types['additionalType'].value_counts()[:25].index.to_list()\n",
    "top_types"
   ]
  },
  {
   "cell_type": "markdown",
   "metadata": {},
   "source": [
    "Now we'll use the list of `top_types` to filter the creation dates, so we only have events relating to those types og objects."
   ]
  },
  {
   "cell_type": "code",
   "execution_count": null,
   "metadata": {},
   "outputs": [],
   "source": [
    "# Only include records where the additionalType value is in the list of top_types\n",
    "df_top_types = df_creation_dates_types.loc[(df_creation_dates_types['year'] > 0) & (df_creation_dates_types['additionalType'].isin(top_types))]"
   ]
  },
  {
   "cell_type": "markdown",
   "metadata": {},
   "source": [
    "To chart this data we're going to use circles for each point and create 'bubble lines' for each object type to show how the number of objects created varied year by year."
   ]
  },
  {
   "cell_type": "code",
   "execution_count": null,
   "metadata": {},
   "outputs": [],
   "source": [
    "# Create a chart\n",
    "alt.Chart(df_top_types).mark_circle(\n",
    "    \n",
    "    # Style the circles\n",
    "    opacity=0.8,\n",
    "    stroke='black',\n",
    "    strokeWidth=1\n",
    ").encode(\n",
    "    \n",
    "    # Year on the X axis\n",
    "    x=alt.X('year:O', axis=alt.Axis(format='c', title='Year of production', labelAngle=0)),\n",
    "    \n",
    "    # Object type on the Y axis\n",
    "    y=alt.Y('additionalType:N', title='Object type'),\n",
    "    \n",
    "    # Size of the circles represents the number of objects\n",
    "    size=alt.Size('count():Q',\n",
    "        scale=alt.Scale(range=[0, 2000]),\n",
    "        legend=alt.Legend(title='Number of objects')\n",
    "    ),\n",
    "    \n",
    "    # Color the circles by object type\n",
    "    color=alt.Color('additionalType:N', legend=None),\n",
    "    \n",
    "    # More details on hover\n",
    "    tooltip=[alt.Tooltip('additionalType:N', title='Type'), alt.Tooltip('year:O', title='Year'), alt.Tooltip('count():Q', title='Objects', format=',')]\n",
    ").properties(\n",
    "    width=700\n",
    ")"
   ]
  },
  {
   "cell_type": "markdown",
   "metadata": {},
   "source": [
    "What patterns can you see? Hover over the cricles for more information. Once again the engravings dominate, but also look at the bark paintings and cartoons, what might be happening there?"
   ]
  },
  {
   "cell_type": "markdown",
   "metadata": {},
   "source": [
    "----\n",
    "\n",
    "Created by [Tim Sherratt](https://timsherratt.org/) for the [GLAM Workbench](https://glam-workbench.github.io/).\n",
    "\n",
    "Work on this notebook was supported by the [Humanities, Arts and Social Sciences (HASS) Data Enhanced Virtual Lab](https://tinker.edu.au/)."
   ]
  }
 ],
 "metadata": {
  "kernelspec": {
   "display_name": "Python 3",
   "language": "python",
   "name": "python3"
  },
  "language_info": {
   "codemirror_mode": {
    "name": "ipython",
    "version": 3
   },
   "file_extension": ".py",
   "mimetype": "text/x-python",
   "name": "python",
   "nbconvert_exporter": "python",
   "pygments_lexer": "ipython3",
   "version": "3.6.5"
  }
 },
 "nbformat": 4,
 "nbformat_minor": 4
}
