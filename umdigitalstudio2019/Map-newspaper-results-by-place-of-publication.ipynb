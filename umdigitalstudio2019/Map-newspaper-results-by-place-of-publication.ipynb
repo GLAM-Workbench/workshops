{
 "cells": [
  {
   "cell_type": "markdown",
   "metadata": {},
   "source": [
    "# Map Trove newspaper results by place of publication\n",
    "\n",
    "In another notebook, I explored some ways in which you could [map Trove newspaper results using the `state` facet](Map-newspaper-results-by-state.ipynb). In this notebook we'll go a bit deeper and map the actual **locations** in which the newspapers returned by our search results were published.\n",
    "\n",
    "To do this, we'll use the `title` facet. This returns a list of all the newspapers in our results, and the number of matching articles in each.\n",
    "\n",
    "You can use this notebook to visualise your own search queries, just edit the search parameters were indicated.\n"
   ]
  },
  {
   "cell_type": "markdown",
   "metadata": {},
   "source": [
    "<div class=\"alert alert-block alert-warning\">\n",
    "<p>If you haven't used one of these notebooks before, they're basically web pages in which you can write, edit, and run live code. They're meant to encourage experimentation, so don't feel nervous. Just try running a few cells and see what happens!.</p>\n",
    "\n",
    "<p>\n",
    "    Some tips:\n",
    "    <ul>\n",
    "        <li>Code cells have boxes around them. When you hover over them a <i class=\"fa-step-forward fa\"></i> icon appears.</li>\n",
    "        <li>To run a code cell either click the <i class=\"fa-step-forward fa\"></i> icon, or click on the cell and then hit <b>Shift+Enter</b>. The <b>Shift+Enter</b> combo will also move you to the next cell, so it's a quick way to work through the notebook.</li>\n",
    "        <li>While a cell is running a <b>*</b> appears in the square brackets next to the cell. Once the cell has finished running the asterix will be replaced with a number.</li>\n",
    "        <li>In most cases you'll want to start from the top of notebook and work your way down running each cell in turn. Later cells might depend on the results of earlier ones.</li>\n",
    "        <li>To edit a code cell, just click on it and type stuff. Remember to run the cell once you've finished editing.</li>\n",
    "    </ul>\n",
    "</p>\n",
    "</div>"
   ]
  },
  {
   "cell_type": "markdown",
   "metadata": {},
   "source": [
    "## Add your API key\n",
    "\n",
    "You need an [API key](http://help.nla.gov.au/trove/building-with-trove/api) to get data from Trove."
   ]
  },
  {
   "cell_type": "code",
   "execution_count": null,
   "metadata": {},
   "outputs": [],
   "source": [
    "# This creates a variable called 'api_key', paste your key between the quotes\n",
    "# <-- Then click the run icon \n",
    "api_key = ''\n",
    "\n",
    "# This displays a message with your key\n",
    "print('Your API key is: {}'.format(api_key))"
   ]
  },
  {
   "cell_type": "markdown",
   "metadata": {},
   "source": [
    "## Setting things up\n",
    "\n",
    "You don't need to edit anything here. Just run the cells to load the bits and pieces we need."
   ]
  },
  {
   "cell_type": "code",
   "execution_count": null,
   "metadata": {},
   "outputs": [],
   "source": [
    "# Import the libraries we need\n",
    "# <-- Click the run icon \n",
    "import requests\n",
    "import pandas as pd\n",
    "import os\n",
    "import altair as alt\n",
    "import json\n",
    "import folium\n",
    "from folium.plugins import MarkerCluster\n",
    "from folium.plugins import HeatMap\n",
    "import numpy as np\n",
    "\n",
    "#alt.renderers.enable('default')\n",
    "alt.renderers.enable('notebook')"
   ]
  },
  {
   "cell_type": "code",
   "execution_count": null,
   "metadata": {},
   "outputs": [],
   "source": [
    "# Set up default parameters for our API query\n",
    "# <-- Click the run icon \n",
    "params = {\n",
    "    'zone': 'newspaper',\n",
    "    'encoding': 'json',\n",
    "    'facet': 'title',\n",
    "    'n': '1',\n",
    "    'key': api_key\n",
    "}\n",
    "\n",
    "api_url = 'http://api.trove.nla.gov.au/v2/result'"
   ]
  },
  {
   "cell_type": "markdown",
   "metadata": {},
   "source": [
    "## Construct your search\n",
    "\n",
    "This is where you set your search keywords. Change 'weather AND wragge date:[* TO 1954]' in the cell below to anything you might enter in the Trove simple search box. For example:\n",
    "\n",
    "`params['q'] = 'weather AND wragge'`\n",
    "\n",
    "`params['q'] = '\"Clement Wragge\"'`\n",
    "\n",
    "`params['q'] = 'text:\"White Australia Policy\"'`\n",
    "\n",
    "`params['q'] = 'weather AND date:[1890-01-01T00:00:00Z TO 1920-12-11T00:00:00Z]'`\n",
    "\n",
    "You can also limit the results to specific categories. To only search for articles, include this line:\n",
    "\n",
    "`params['l-category'] = 'Article'`"
   ]
  },
  {
   "cell_type": "code",
   "execution_count": null,
   "metadata": {},
   "outputs": [],
   "source": [
    "# Enter your search parameters\n",
    "# This can be anything you'd enter in the Trove simple search box\n",
    "params['q'] = 'weather AND wragge date:[* TO 1954]'\n",
    "\n",
    "# Remove the \"#\" symbol from the line below to limit the results to the article category\n",
    "#params['l-category'] = 'Article'"
   ]
  },
  {
   "cell_type": "markdown",
   "metadata": {},
   "source": [
    "## Get the data from Trove\n",
    "\n",
    "Everything's set up, so just run the cells!\n",
    "\n",
    "### Make an API request"
   ]
  },
  {
   "cell_type": "code",
   "execution_count": null,
   "metadata": {},
   "outputs": [],
   "source": [
    "# <-- Click the run icon \n",
    "response = requests.get(api_url, params=params)\n",
    "data = response.json()"
   ]
  },
  {
   "cell_type": "markdown",
   "metadata": {},
   "source": [
    "### Reformat the results"
   ]
  },
  {
   "cell_type": "code",
   "execution_count": null,
   "metadata": {
    "scrolled": true
   },
   "outputs": [],
   "source": [
    "# <-- Click the run icon \n",
    "def format_facets(data):\n",
    "    facets = data['response']['zone'][0]['facets']['facet']['term']\n",
    "    df = pd.DataFrame(facets)\n",
    "    df = df[['display', 'count']]\n",
    "    df.columns = ['title_id', 'total']\n",
    "    df['total'] = pd.to_numeric(df['total'], errors='coerce')\n",
    "    return df\n",
    "df = format_facets(data)\n",
    "df.head()"
   ]
  },
  {
   "cell_type": "markdown",
   "metadata": {},
   "source": [
    "## Load location data\n",
    "\n",
    "I've previously created a [CSV file](data/trove-newspaper-titles-locations.csv) that provides geolocated places of publication for newspapers in Trove. Some newspapers are associated with multiple places (for example a cluster of nearby country towns), so the CSV file can contain multiple rows for a single newspaper title. Note also that any newspapers that were added to Trove since I last harvested the locations in April 2018 will drop out of the data.\n",
    "\n",
    "We're going to merge the facets data with my geolocated titles file, matching on the `title_id`. We'll only take the first matching row from the geolocated data."
   ]
  },
  {
   "cell_type": "code",
   "execution_count": null,
   "metadata": {},
   "outputs": [],
   "source": [
    "# Get the geolocated data\n",
    "locations = pd.read_csv('data/trove-newspaper-titles-locations.csv', names=['title_id', 'title', 'state', 'place_id', 'place', 'lat', 'lon'])\n",
    "# Only keep the first instance of each title\n",
    "locations.drop_duplicates(subset=['title_id'], keep='first', inplace=True)\n",
    "# Merge the facets and the geolocated data\n",
    "df_located = pd.merge(df, locations, on='title_id', how='left')\n",
    "df_located.head()"
   ]
  },
  {
   "cell_type": "markdown",
   "metadata": {},
   "source": [
    "## Display top 20 newspapers\n",
    "\n",
    "Now we have titles for our newspaper facets, let's chart the top twenty."
   ]
  },
  {
   "cell_type": "code",
   "execution_count": null,
   "metadata": {},
   "outputs": [],
   "source": [
    "alt.Chart(df_located[:20]).mark_bar().encode(\n",
    "    y=alt.Y('title', sort=df_located['title'][:20].tolist(), title=''),\n",
    "    x=alt.X('total', title='Number of articles')\n",
    ")"
   ]
  },
  {
   "cell_type": "markdown",
   "metadata": {},
   "source": [
    "## Map places of publication\n",
    "\n",
    "More than one newspaper can be associated with a place, so rather than map individual newspapers, we'll group them by place."
   ]
  },
  {
   "cell_type": "code",
   "execution_count": null,
   "metadata": {},
   "outputs": [],
   "source": [
    "# Group newspapers by place\n",
    "df_places = df_located.groupby(['place', 'lat', 'lon'])"
   ]
  },
  {
   "cell_type": "markdown",
   "metadata": {},
   "source": [
    "Here's the fun part. We'll create a map, then we'll loop through the places, getting the total number of articles from all the grouped newspapers."
   ]
  },
  {
   "cell_type": "code",
   "execution_count": null,
   "metadata": {},
   "outputs": [],
   "source": [
    "m = folium.Map(\n",
    "    location=[-30, 135],\n",
    "    zoom_start=4\n",
    ")\n",
    "# We'll cluster the markers for better readability\n",
    "marker_cluster = MarkerCluster().add_to(m)\n",
    "\n",
    "for place, group in df_places:\n",
    "    # Get the total articles from the grouped titles\n",
    "    total = group['total'].sum()\n",
    "    # Turn all the grouped title_ids into a string that we can use in a Trove search url\n",
    "    titles = group['title_id'].astype('str').str.cat(sep='&l-title=')\n",
    "    # Create the content of the marker popup -- includes a search link back to Trove!\n",
    "    html = '<b>{}</b><br><a target=\"_blank\" href=\"https://trove.nla.gov.au/newspaper/result?q={}&l-title={}&l-category={}\">{} articles'.format(place[0], params['q'], titles, params.get('l-category', ''), total)\n",
    "    # Add the marker to the map\n",
    "    folium.Marker([place[1], place[2]], popup=html).add_to(marker_cluster)\n",
    "\n",
    "m"
   ]
  },
  {
   "cell_type": "markdown",
   "metadata": {},
   "source": [
    "Play around with the map. Note the link on the total number of articles in the pop-ups — it should open Trove and find the matching articles!"
   ]
  },
  {
   "cell_type": "markdown",
   "metadata": {},
   "source": [
    "## Make a heatmap\n",
    "\n",
    "The map above is great from browsing, but doesn't give much of a sense of the **number** of results in each place. Let's try creating a heatmap instead.\n",
    "\n",
    "To populate a heatmap we just need a list of coordinates — one set of coordinates for each article."
   ]
  },
  {
   "cell_type": "code",
   "execution_count": null,
   "metadata": {},
   "outputs": [],
   "source": [
    "# Get the total number of articles for each place\n",
    "df_totals = df_places.sum()\n",
    "locations = []\n",
    "# Loop through the places\n",
    "for place in df_totals.index:\n",
    "    # Get the total\n",
    "    total = df_totals.loc[place]['total']\n",
    "    # Add the coordinates of the place to the list of locations as many times as there are articles\n",
    "    locations += ([[place[1], place[2]]] * total)"
   ]
  },
  {
   "cell_type": "code",
   "execution_count": null,
   "metadata": {},
   "outputs": [],
   "source": [
    "# Create another map\n",
    "m2 = folium.Map(\n",
    "    location=[-30, 135],\n",
    "    zoom_start=4\n",
    ")\n",
    "\n",
    "#Add the heatmap data!\n",
    "HeatMap(locations).add_to(m2)\n",
    "m2"
   ]
  },
  {
   "cell_type": "markdown",
   "metadata": {},
   "source": [
    "That's looking pretty interesting. Hmmmm, it would be nice if we could animate this through time, but we'd need more data. Perhaps a [future notebook](Map-newspaper-results-by-place-of-publication-over-time.ipynb) topic?"
   ]
  },
  {
   "cell_type": "code",
   "execution_count": null,
   "metadata": {},
   "outputs": [],
   "source": []
  }
 ],
 "metadata": {
  "kernelspec": {
   "display_name": "Python 3",
   "language": "python",
   "name": "python3"
  },
  "language_info": {
   "codemirror_mode": {
    "name": "ipython",
    "version": 3
   },
   "file_extension": ".py",
   "mimetype": "text/x-python",
   "name": "python",
   "nbconvert_exporter": "python",
   "pygments_lexer": "ipython3",
   "version": "3.7.3"
  }
 },
 "nbformat": 4,
 "nbformat_minor": 4
}
