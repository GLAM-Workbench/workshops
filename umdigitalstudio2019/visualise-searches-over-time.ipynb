{
 "cells": [
  {
   "cell_type": "markdown",
   "metadata": {},
   "source": [
    "# Visualise Trove newspaper searches over time\n",
    "\n",
    "You know the feeling. You enter a query into [Trove's digitised newspapers](https://trove.nla.gov.au/newspaper/) search box and...\n",
    "\n",
    "![Trove search results screen capture](images/trove-newspaper-results.png)\n",
    "\n",
    "Hmmm, **3 million results**, how do you make sense of that..?\n",
    "\n",
    "Trove tries to be as helpful as possible by ordering your results by relevance. This is great if you aim is to find a few interesting articles. But how can you get a sense of the complete results set? How can you *see* everything? Trove's web interface only shows you the first 2,000 articles matching your search. But by getting data directly from the [Trove API](https://help.nla.gov.au/trove/building-with-trove/api) we can go bigger. \n",
    "\n",
    "This notebook helps you zoom out and explore how the number of newspaper articles in your results varies over time by using the `decade` and `year` facets. We'll then combine this approach with other search facets to see how we can slice a set of results up in different ways to investigate historical changes.\n",
    "\n",
    "1. [Setting things up](#1.-Setting-things-up)\n",
    "2. [Find the number of articles per year using facets](#2.-Find-the-number-of-articles-per-year-using-facets)\n",
    "3. [How many articles in total were published each year?](#3.-How-many-articles-in-total-were-published-each-year?)\n",
    "4. [Charting our search results as a proportion of total articles](#4.-Charting-our-search-results-as-a-proportion-of-total-articles)\n",
    "5. [Comparing multiple search terms over time](#5.-Comparing-multiple-search-terms-over-time)\n",
    "6. [Comparing a search term across different states](#6.-Comparing-a-search-term-across-different-states)\n",
    "7. [Comparing a search term across different newspapers](#7.-Comparing-a-search-term-across-different-newspapers)\n",
    "8. [Chart changes in illustration types over time](#8.-Chart-changes-in-illustration-types-over-time)\n",
    "9. [But what are we searching?](#9.-But-what-are-we-searching?)\n",
    "10. [Next steps](#10.-Next-steps)\n",
    "11. [Related resources](#11.-Related-resources)\n",
    "12. [Further reading](#12.-Further-reading)\n",
    "\n",
    "If you're interested in exploring the possibilities examined in this notebook, but are feeling a bit intimidated by the code, skip to the [Related resources](#11.-Related-resources) section for some alternative starting points. But once you've got a bit of confidence, please come back here to learn more about how it all works!\n"
   ]
  },
  {
   "cell_type": "markdown",
   "metadata": {},
   "source": [
    "<div class=\"alert alert-block alert-warning\">\n",
    "<p>If you haven't used one of these notebooks before, they're basically web pages in which you can write, edit, and run live code. They're meant to encourage experimentation, so don't feel nervous. Just try running a few cells and see what happens!</p>\n",
    "\n",
    "<p>\n",
    "    Some tips:\n",
    "    <ul>\n",
    "        <li>Code cells have boxes around them.</li>\n",
    "        <li>To run a code cell click on the cell and then hit <b>Shift+Enter</b>. The <b>Shift+Enter</b> combo will also move you to the next cell, so it's a quick way to work through the notebook.</li>\n",
    "        <li>While a cell is running a <b>*</b> appears in the square brackets next to the cell. Once the cell has finished running the asterix will be replaced with a number.</li>\n",
    "        <li>In most cases you'll want to start from the top of notebook and work your way down running each cell in turn. Later cells might depend on the results of earlier ones.</li>\n",
    "        <li>To edit a code cell, just click on it and type stuff. Remember to run the cell once you've finished editing.</li>\n",
    "    </ul>\n",
    "</p>\n",
    "\n",
    "<p><b>Is this thing on?</b> If you can't edit or run any of the code cells, you might be viewing a static (read only) version of this notebook. Click here to <a href=\"https://mybinder.org/v2/gh/GLAM-Workbench/trove-newspapers/master?filepath=visualise-searches-over-time.ipynb\">load a <b>live</b> version</a> running on Binder.</p>\n",
    "\n",
    "</div>"
   ]
  },
  {
   "cell_type": "markdown",
   "metadata": {},
   "source": [
    "## 1. Setting things up"
   ]
  },
  {
   "cell_type": "markdown",
   "metadata": {},
   "source": [
    "### Import what we need"
   ]
  },
  {
   "cell_type": "code",
   "execution_count": null,
   "metadata": {},
   "outputs": [],
   "source": [
    "import requests\n",
    "import os\n",
    "import ipywidgets as widgets\n",
    "from operator import itemgetter # used for sorting\n",
    "import pandas as pd # makes manipulating the data easier\n",
    "import altair as alt\n",
    "from requests.adapters import HTTPAdapter\n",
    "from requests.packages.urllib3.util.retry import Retry\n",
    "from tqdm.auto import tqdm\n",
    "from IPython.display import display, HTML, FileLink, clear_output\n",
    "import math\n",
    "from collections import OrderedDict\n",
    "import time\n",
    "\n",
    "# Make sure data directory exists\n",
    "os.makedirs('data', exist_ok=True)\n",
    "\n",
    "# Create a session that will automatically retry on server errors\n",
    "s = requests.Session()\n",
    "retries = Retry(total=5, backoff_factor=1, status_forcelist=[ 502, 503, 504 ])\n",
    "s.mount('http://', HTTPAdapter(max_retries=retries))\n",
    "s.mount('https://', HTTPAdapter(max_retries=retries))\n",
    "\n",
    "alt.data_transformers.enable('json')"
   ]
  },
  {
   "cell_type": "markdown",
   "metadata": {},
   "source": [
    "The next cell sets the renderer for Altair. If you're using the classic Jupyter notebook, just run the cell as normal. If you're using Jupyter Lab, don't run it!"
   ]
  },
  {
   "cell_type": "code",
   "execution_count": null,
   "metadata": {},
   "outputs": [],
   "source": [
    "# Are you using Jupyter Lab?\n",
    "# If so either don't run this cell or comment out the line below\n",
    "\n",
    "alt.renderers.enable('notebook')\n",
    "\n",
    "# If you forget, run this cell, and then get strange warnings when you make a chart,\n",
    "# uncomment the following line and run this cell to reset the chart renderer\n",
    "\n",
    "# alt.renderers.enable('default')"
   ]
  },
  {
   "cell_type": "markdown",
   "metadata": {},
   "source": [
    "### Enter a Trove API key\n",
    "\n",
    "We're going to get our data from the Trove API. You'll need to get your own [Trove API key](http://help.nla.gov.au/trove/building-with-trove/api) and enter it below."
   ]
  },
  {
   "cell_type": "code",
   "execution_count": null,
   "metadata": {},
   "outputs": [],
   "source": [
    "api_key = ''\n",
    "print('Your API key is: {}'.format(api_key))"
   ]
  },
  {
   "cell_type": "markdown",
   "metadata": {},
   "source": [
    "## 2. Find the number of articles per year using facets\n",
    "\n",
    "<img src=\"images/trove-decade-facets.png\" width=\"200\" align=\"left\" style=\"border: 1px solid #d6d6d6; margin-right: 20px\">\n",
    "\n",
    "When you search for newspaper articles using Trove's web interface, the results appear alongside a column headed 'Refine your results'. This column displays summary data extracted from your search, such as the states in which articles were published and the newspapers that published them. In the web interface, you can use this data to filter your results, but using the API we can retrieve the raw data and use it to visualise the complete result set.\n",
    "\n",
    "Here you can see the decade facet, showing the number of newspaper articles published each decade. If you click on a decade, the interface displays the number of results per year. So sitting underneath the web interface is data that breaks down our search results by year. Let's use this data to visualise a search over time."
   ]
  },
  {
   "cell_type": "markdown",
   "metadata": {},
   "source": [
    "To get results by year from the Trove API, you need to set the `facet` parameter to `year`. However, this only works if you've also selected a specific decade using the `l-decade` parameter. In other words, you can only get one decade's worth of results at a time. To assemble the complete dataset, you need to loop through all the decades, requesting the `year` data for each decade in turn.\n",
    "\n",
    "Let's start with some basic parameters for our search."
   ]
  },
  {
   "cell_type": "code",
   "execution_count": null,
   "metadata": {},
   "outputs": [],
   "source": [
    "# Basic parameters for Trove API\n",
    "params = {\n",
    "    'facet': 'year', # Get the data aggregated by year.\n",
    "    'zone': 'newspaper',\n",
    "    'key': api_key,\n",
    "    'encoding': 'json',\n",
    "    'n': 0 # We don't need any records, just the facets!\n",
    "}"
   ]
  },
  {
   "cell_type": "markdown",
   "metadata": {},
   "source": [
    "But what are we searching for? We need to supply a `q` parameter that includes our search terms. We can use pretty much anything that works in the Trove simple search box. This includes boolean operators, phrase searches, and proximity modifiers. But let's start with something simple. Feel free to modify the `q` value in the cell below."
   ]
  },
  {
   "cell_type": "code",
   "execution_count": null,
   "metadata": {},
   "outputs": [],
   "source": [
    "# CHANGE THIS TO SEARCH FOR SOMETHING ELSE!\n",
    "params['q'] = 'radio'"
   ]
  },
  {
   "cell_type": "markdown",
   "metadata": {},
   "source": [
    "Let's define a couple of handy functions for getting facet data from the Trove API. "
   ]
  },
  {
   "cell_type": "code",
   "execution_count": null,
   "metadata": {},
   "outputs": [],
   "source": [
    "def get_results(params):\n",
    "    '''\n",
    "    Get JSON response data from the Trove API.\n",
    "    Parameters:\n",
    "        params\n",
    "    Returns:\n",
    "        JSON formatted response data from Trove API \n",
    "    '''\n",
    "    response = s.get('https://api.trove.nla.gov.au/v2/result', params=params, timeout=30)\n",
    "    response.raise_for_status()\n",
    "    # print(response.url) # This shows us the url that's sent to the API\n",
    "    data = response.json()\n",
    "    return data\n",
    "\n",
    "def get_facets(data):\n",
    "    '''\n",
    "    Loop through facets in Trove API response, saving terms and counts.\n",
    "    Parameters:\n",
    "        data  - JSON formatted response data from Trove API  \n",
    "    Returns:\n",
    "        A list of dictionaries containing: 'year', 'total_results'\n",
    "    '''\n",
    "    facets = []\n",
    "    try:\n",
    "        # The facets are buried a fair way down in the results\n",
    "        # Note that if you ask for more than one facet, you'll have use the facet['name'] param to find the one you want\n",
    "        # In this case there's only one facet, so we can just grab the list of terms (which are in fact the results by year)\n",
    "        for term in data['response']['zone'][0]['facets']['facet']['term']:\n",
    "            \n",
    "            # Get the year and the number of results, and convert them to integers, before adding to our results\n",
    "            facets.append({'year': int(term['search']), 'total_results': int(term['count'])})\n",
    "            \n",
    "        # Sort facets by year\n",
    "        facets.sort(key=itemgetter('year'))\n",
    "    except TypeError:\n",
    "        pass\n",
    "    return facets"
   ]
  },
  {
   "cell_type": "markdown",
   "metadata": {},
   "source": [
    "Now we'll define a function to loop through the decades, processing each in turn. \n",
    "\n",
    "To loop through the decades we need to define start and end points. Trove includes newspapers from 1803 right through until the current decade. Note that Trove expects decades to be specified using the first three digits of a year – so the decade value for the 1800s is just `180`. So let's set our range by giving `180` and `201` to the function as our default `start_decade` and `end_decade` values. Also note that I'm defining them as numbers, not strings (no quotes around them!). This is so that we can use them to build a range.\n",
    "\n",
    "This function returns a list of dictionaries with values for `year` and `total_results`."
   ]
  },
  {
   "cell_type": "code",
   "execution_count": null,
   "metadata": {},
   "outputs": [],
   "source": [
    "def get_facet_data(params, start_decade=180, end_decade=201):\n",
    "    '''\n",
    "    Loop throught the decades from 'start_decade' to 'end_decade',\n",
    "    getting the number of search results for each year from the year facet.\n",
    "    Combine all the results into a single list.\n",
    "    Parameters:\n",
    "        params - parameters to send to the API\n",
    "        start_decade\n",
    "        end_decade\n",
    "    Returns:\n",
    "        A list of dictionaries containing 'year', 'total_results' for the complete \n",
    "        period between the start and end decades.\n",
    "    '''\n",
    "    # Create a list to hold the facets data\n",
    "    facet_data = []\n",
    "    \n",
    "    # Loop through the decades\n",
    "    for decade in tqdm(range(start_decade, end_decade + 1)):\n",
    "        \n",
    "        # Avoid confusion by copying the params before we change anything.\n",
    "        search_params = params.copy()\n",
    "        \n",
    "        # Add decade value to params\n",
    "        search_params['l-decade'] = decade\n",
    "        \n",
    "        # Get the data from the API\n",
    "        data = get_results(search_params)\n",
    "        \n",
    "        # Get the facets from the data and add to facets_data\n",
    "        facet_data += get_facets(data)\n",
    "        \n",
    "        # Try not to go over API rate limit - increase if you get 403 errors\n",
    "        time.sleep(0.2)\n",
    "        \n",
    "    # Reomve the progress bar (you can also set leave=False in tqdm, but that still leaves white space in Jupyter Lab)\n",
    "    clear_output()\n",
    "    return facet_data"
   ]
  },
  {
   "cell_type": "code",
   "execution_count": null,
   "metadata": {},
   "outputs": [],
   "source": [
    "# Call the function and save the results to a variable called facet_data\n",
    "facet_data = get_facet_data(params)"
   ]
  },
  {
   "cell_type": "markdown",
   "metadata": {},
   "source": [
    "For easy exploration, we'll convert the facet data into a [Pandas](https://pandas.pydata.org/) DataFrame."
   ]
  },
  {
   "cell_type": "code",
   "execution_count": null,
   "metadata": {},
   "outputs": [],
   "source": [
    "# Convert our data to a dataframe called df\n",
    "df = pd.DataFrame(facet_data)\n",
    "\n",
    "# Let's have a look at the first few rows of data\n",
    "df.head()"
   ]
  },
  {
   "cell_type": "markdown",
   "metadata": {},
   "source": [
    "Which year had the most results? We can use `idxmax()` to find out."
   ]
  },
  {
   "cell_type": "code",
   "execution_count": null,
   "metadata": {},
   "outputs": [],
   "source": [
    "# Show the row that has the highest value in the 'total_results' column.\n",
    "# Use .idxmax to find the row with the highest value, then use .loc to get it\n",
    "df.loc[df['total_results'].idxmax()]"
   ]
  },
  {
   "cell_type": "markdown",
   "metadata": {},
   "source": [
    "Now let's display the data as a chart using [Altair](https://altair-viz.github.io/index.html)."
   ]
  },
  {
   "cell_type": "code",
   "execution_count": null,
   "metadata": {},
   "outputs": [],
   "source": [
    "alt.Chart(df).mark_line(point=True).encode(\n",
    "        # Years on the X axis\n",
    "        x=alt.X('year:Q', axis=alt.Axis(format='c', title='Year')),\n",
    "    \n",
    "        # Number of articles on the Y axis\n",
    "        y=alt.Y('total_results:Q', axis=alt.Axis(format=',d', title='Number of articles')),\n",
    "    \n",
    "        # Display details when you hover over a point\n",
    "        tooltip=[alt.Tooltip('year:Q', title='Year'), alt.Tooltip('total_results:Q', title='Articles', format=',')]\n",
    "    ).properties(width=700, height=400)"
   ]
  },
  {
   "cell_type": "markdown",
   "metadata": {},
   "source": [
    "No suprise to see a sudden increase in the use of the word 'radio' in the early decades of the 20th century, but why do the results drop away after 1954? To find out we have to dig a bit deeper into Trove."
   ]
  },
  {
   "cell_type": "markdown",
   "metadata": {},
   "source": [
    "## 3. How many articles in total were published each year?"
   ]
  },
  {
   "cell_type": "markdown",
   "metadata": {},
   "source": [
    "Ok, we've visualised a search in Trove's digitised newspapers. Our chart shows a clear change in the number of articles over time, but are we really observing a historical shift relating to the topic, or is this just because more newspapers were published at particular times? To explore this further, let's create another chart, but this time we'll search for *everything*. The way we do this is by setting the `q` parameter to ' ' – a single space.\n",
    "\n",
    "First let's get the data."
   ]
  },
  {
   "cell_type": "code",
   "execution_count": null,
   "metadata": {},
   "outputs": [],
   "source": [
    "# Reset the 'q' parameter\n",
    "# Use a an empty search (a single space) to get ALL THE ARTICLES\n",
    "params['q'] = ' '\n",
    "\n",
    "# Get facet data for all articles\n",
    "all_facet_data = get_facet_data(params)"
   ]
  },
  {
   "cell_type": "markdown",
   "metadata": {},
   "source": [
    "Now let's create the chart."
   ]
  },
  {
   "cell_type": "code",
   "execution_count": null,
   "metadata": {},
   "outputs": [],
   "source": [
    "# Convert the results to a dataframe\n",
    "df_total = pd.DataFrame(all_facet_data)\n",
    "\n",
    "# Make a chart \n",
    "alt.Chart(df_total).mark_line(point=True).encode(\n",
    "        # Display the years along the X axis\n",
    "        x=alt.X('year:Q', axis=alt.Axis(format='c', title='Year')),\n",
    "        \n",
    "        # Display the number of results on the Y axis (formatted using thousands separator)\n",
    "        y=alt.Y('total_results:Q', axis=alt.Axis(format=',d', title='Number of articles')),\n",
    "        \n",
    "        # Create a tooltip when you hover over a point to show the data for that year\n",
    "        tooltip=[alt.Tooltip('year:Q', title='Year'), alt.Tooltip('total_results:Q', title='Articles', format=',')]\n",
    "    ).properties(width=700, height=400)"
   ]
  },
  {
   "cell_type": "markdown",
   "metadata": {},
   "source": [
    "This chart shows us the total number of newspaper articles in Trove for each year from 1803 to 2013. As you might expect, there's a steady increase in the number of articles published across the 19th century. But why is there such a notable peak in 1915, and why do the numbers drop away so suddenly in 1955? The answers are explored more fully in [this notebook](visualise-total-newspaper-articles-by-state-year.ipynb), but in short they're a reflection of digitisation priorities and copyright restrictions – they're artefacts of the environment in which Trove's newspapers are digitised.\n",
    "\n",
    "The important point is that our original chart showing search results over time is distorted by these underlying features. Radios didn't suddenly go out of fashion in 1955!"
   ]
  },
  {
   "cell_type": "markdown",
   "metadata": {},
   "source": [
    "## 4. Charting our search results as a proportion of total articles\n",
    "\n",
    "One way of lessening the impact of these distortions is to show the number of search results as a proportion of the total number of articles available on Trove from that year. We've just harvested the total number of articles, so to get the proportion all we have to do is divide the original number of search results for each year by the total number of articles. Again, Pandas makes this sort of manipulation easy.\n",
    "\n",
    "Below we'll define a function that takes two dataframes – the search results, and the total results – merges them, and then calculates what proportion of the total that the search results represent."
   ]
  },
  {
   "cell_type": "code",
   "execution_count": null,
   "metadata": {},
   "outputs": [],
   "source": [
    "def merge_df_with_total(df, df_total):\n",
    "    '''\n",
    "    Merge dataframes containing search results with the total number of articles by year.\n",
    "    This is a left join on the year column. The total number of articles will be added as a column to \n",
    "    the existing results.\n",
    "    Once merged, do some reorganisation and calculate the proportion of search results.\n",
    "    Parameters:\n",
    "        df - the search results in a dataframe\n",
    "        df_total - total number of articles per year in a dataframe\n",
    "    Returns:\n",
    "        A dataframe with the following columns - 'year', 'total_results', 'total_articles', 'proportion' \n",
    "        (plus any other columns that are in the search results dataframe).\n",
    "    '''\n",
    "    # Merge the two dataframes on year\n",
    "    # Note that we're joining the two dataframes on the year column\n",
    "    df_merged = pd.merge(df, df_total, how='left', on='year')\n",
    "\n",
    "    # Rename the columns for convenience\n",
    "    df_merged.rename({'total_results_y': 'total_articles'}, inplace=True, axis='columns')\n",
    "    df_merged.rename({'total_results_x': 'total_results'}, inplace=True, axis='columns')\n",
    "\n",
    "    # Set blank values to zero to avoid problems\n",
    "    df_merged['total_results'] = df_merged['total_results'].fillna(0).astype(int)\n",
    "\n",
    "    # Calculate proportion by dividing the search results by the total articles\n",
    "    df_merged['proportion'] = df_merged['total_results'] / df_merged['total_articles']\n",
    "    return df_merged"
   ]
  },
  {
   "cell_type": "markdown",
   "metadata": {},
   "source": [
    "Let's merge!"
   ]
  },
  {
   "cell_type": "code",
   "execution_count": null,
   "metadata": {},
   "outputs": [],
   "source": [
    "# Merge the search results with the total articles\n",
    "df_merged = merge_df_with_total(df, df_total)\n",
    "df_merged.head()"
   ]
  },
  {
   "cell_type": "markdown",
   "metadata": {},
   "source": [
    "Now we have a new dataframe `df_merged` that includes both the raw number of search results for each year, and the proportion the results represent of the total number of articles on Trove. Let's create charts for both and look at the diferences."
   ]
  },
  {
   "cell_type": "code",
   "execution_count": null,
   "metadata": {},
   "outputs": [],
   "source": [
    "# This is the chart showing raw results -- it's the same as the one we created above (but a bit smaller)\n",
    "chart1 = alt.Chart(df).mark_line(point=True).encode(\n",
    "        x=alt.X('year:Q', axis=alt.Axis(format='c', title='Year')),\n",
    "        y=alt.Y('total_results:Q', axis=alt.Axis(format=',d', title='Number of articles')),\n",
    "        tooltip=[alt.Tooltip('year:Q', title='Year'), alt.Tooltip('total_results:Q', title='Articles', format=',')]\n",
    "    ).properties(width=700, height=250)\n",
    "\n",
    "# This is the new view, note that it's using the 'proportion' column for the Y axis\n",
    "chart2 = alt.Chart(df_merged).mark_line(point=True, color='red').encode(\n",
    "        x=alt.X('year:Q', axis=alt.Axis(format='c', title='Year')),\n",
    "    \n",
    "        # This time we're showing the proportion (formatted as a percentage) on the Y axis\n",
    "        y=alt.Y('proportion:Q', axis=alt.Axis(format='%', title='Proportion of articles')),\n",
    "        tooltip=[alt.Tooltip('year:Q', title='Year'), alt.Tooltip('proportion:Q', title='Proportion', format='%')],\n",
    "        \n",
    "        # Make the charts different colors\n",
    "        color=alt.value('orange')\n",
    "    ).properties(width=700, height=250)\n",
    "\n",
    "# This is a shorthand way of stacking the charts on top of each other\n",
    "chart1 & chart2"
   ]
  },
  {
   "cell_type": "markdown",
   "metadata": {},
   "source": [
    "The overall shape of the two charts is similar, but there are some significant differences. Both show a dramatic increase after 1920, but the initial peaks are in different positions. The sudden drop-off after 1954 has gone, and we even have a new peak in 1963. Why 1963? The value of these sorts of visualisations is in the questions they prompt, rather than any claim to 'accuracy'. How meaningful are the post-1954 results? If we [break down the numbers by state](visualise-total-newspaper-articles-by-state-year.ipynb), we see that the post-1954 results are mostly from the ACT. It is a small, narrowly-focused sample. Reading these two charts in combination reminds us that the structure and content of a large corpus like Trove is not natural. While viewing the number of results over time can alert us to historical shifts, we have to be prepared to ask questions about how those results are generated, and what they represent."
   ]
  },
  {
   "cell_type": "markdown",
   "metadata": {},
   "source": [
    "## 5. Comparing multiple search terms over time\n",
    "\n",
    "Another way of working around inconsistencies in the newspaper corpus is to *compare* search queries. While the total numbers could be misleading, the comparative numbers might still show us interesting shifts in usage or meaning. Once again, this is not something we can do through the web interface, but all we need to achieve this using the API is a few minor adjustments to our code.\n",
    "\n",
    "Instead of a single search query, this time we'll define a list of search queries. You can include as many queries as you want and, once again, the queries can be anything you'd type in the Trove search box."
   ]
  },
  {
   "cell_type": "code",
   "execution_count": null,
   "metadata": {},
   "outputs": [],
   "source": [
    "# Create a list of queries\n",
    "queries = [\n",
    "    'telegraph',\n",
    "    'radio',\n",
    "    'wireless'\n",
    "]"
   ]
  },
  {
   "cell_type": "markdown",
   "metadata": {},
   "source": [
    "Now we'll define a new function that loops through each of the search terms, retrieving the facet data for each, and combining it all into a single dataframe."
   ]
  },
  {
   "cell_type": "code",
   "execution_count": null,
   "metadata": {},
   "outputs": [],
   "source": [
    "def get_search_facets(params, queries):\n",
    "    '''\n",
    "    Process a list of search queries, gathering the facet data for each and combining the results into a single dataframe.\n",
    "    \n",
    "    Parameters:\n",
    "        params - basic parameters to send to the API\n",
    "        queries - a list of search queries\n",
    "    Returns:\n",
    "        A dataframe\n",
    "    '''\n",
    "    # This is where we'll store the invididual dataframes\n",
    "    dfs = []\n",
    "    \n",
    "    # Make a copy of the basic parameters\n",
    "    these_params = params.copy()\n",
    "    \n",
    "    # Loop through the list of queries\n",
    "    for q in queries:\n",
    "        \n",
    "        # Set the 'q' parameter to the current search query\n",
    "        these_params['q'] = q\n",
    "        \n",
    "        # Get all the facet data for this search\n",
    "        facet_data = get_facet_data(these_params)\n",
    "        \n",
    "        # Convert the facet data into a dataframe\n",
    "        df = pd.DataFrame(facet_data)\n",
    "        \n",
    "        # Add a column with the search query -- this will enable us to distinguish between the results in the combined dataframe.\n",
    "        df['query'] = q\n",
    "        \n",
    "        # Add this df to our list\n",
    "        dfs.append(df)\n",
    "        \n",
    "    # Combine the dfs into one df using concat and return the result\n",
    "    return pd.concat(dfs)"
   ]
  },
  {
   "cell_type": "markdown",
   "metadata": {},
   "source": [
    "Now we're ready to harvest some data!"
   ]
  },
  {
   "cell_type": "code",
   "execution_count": null,
   "metadata": {},
   "outputs": [],
   "source": [
    "df_queries = get_search_facets(params, queries)"
   ]
  },
  {
   "cell_type": "markdown",
   "metadata": {},
   "source": [
    "Once again, it would be useful to have the number of search results as a proportion of the total articles, so let's use our merge function again to add the proportions."
   ]
  },
  {
   "cell_type": "code",
   "execution_count": null,
   "metadata": {},
   "outputs": [],
   "source": [
    "df_queries_merged = merge_df_with_total(df_queries, df_total)"
   ]
  },
  {
   "cell_type": "markdown",
   "metadata": {},
   "source": [
    "As we're repeating the same sorts of charts with different data, we might as well save ourselves some effort by creating a couple of reusable charting functions. One shows the raw numbers, and the other shows the proportions."
   ]
  },
  {
   "cell_type": "code",
   "execution_count": null,
   "metadata": {},
   "outputs": [],
   "source": [
    "def make_chart_totals(df, category, category_title):\n",
    "    '''\n",
    "    Make a chart showing the raw number of search results over time.\n",
    "    Creates different coloured lines for each query or category.\n",
    "    Parameters:\n",
    "        df - a dataframe\n",
    "        category - the column containing the value that distinguishes multiple results set (eg 'query' or 'state')\n",
    "        category_title - a nicely formatted title for the category to appear above the legend\n",
    "    '''\n",
    "    chart = alt.Chart(df).mark_line(point=True).encode(\n",
    "        \n",
    "        # Show the year on the X axis\n",
    "        x=alt.X('year:Q', axis=alt.Axis(format='c', title='Year')),\n",
    "        \n",
    "        # Show the total number of articles on the Y axis (with thousands separator)\n",
    "        y=alt.Y('total_results:Q', axis=alt.Axis(format=',d', title='Number of articles')),\n",
    "        \n",
    "        # Display query/category, year, and number of results on hover\n",
    "        tooltip=[alt.Tooltip('{}:N'.format(category), title=category_title), alt.Tooltip('year:Q', title='Year'), alt.Tooltip('total_results:Q', title='Articles', format=',')],\n",
    "        \n",
    "        # In these charts were comparing results, so we're using color to distinguish between queries/categories\n",
    "        color=alt.Color('{}:N'.format(category), legend=alt.Legend(title=category_title))\n",
    "    ).properties(width=700, height=250)\n",
    "    return chart\n",
    "\n",
    "\n",
    "def make_chart_proportions(df, category, category_title):\n",
    "    '''\n",
    "    Make a chart showing the proportion of search results over time.\n",
    "    Creates different coloured lines for each query or category.\n",
    "    Parameters:\n",
    "        df - a dataframe\n",
    "        category - the column containing the value that distinguishes multiple results set (eg 'query' or 'state')\n",
    "        category_title - a nicely formatted title for the category to appear above the legend\n",
    "    '''\n",
    "    chart = alt.Chart(df).mark_line(point=True).encode(\n",
    "        # Show the year on the X axis\n",
    "        x=alt.X('year:Q', axis=alt.Axis(format='c', title='Year')),\n",
    "        \n",
    "        # Show the proportion of articles on the Y axis (formatted as percentage)\n",
    "        y=alt.Y('proportion:Q', axis=alt.Axis(format='%', title='Proportion of articles'), stack=None),\n",
    "        \n",
    "        # Display query/category, year, and proportion of results on hover\n",
    "        tooltip=[alt.Tooltip('{}:N'.format(category), title=category_title), alt.Tooltip('year:Q', title='Year'), alt.Tooltip('proportion:Q', title='Proportion', format='%')],\n",
    "        \n",
    "        # In these charts were comparing results, so we're using color to distinguish between queries/categories\n",
    "        color=alt.Color('{}:N'.format(category), legend=alt.Legend(title=category_title))\n",
    "    ).properties(width=700, height=250)\n",
    "    return chart"
   ]
  },
  {
   "cell_type": "markdown",
   "metadata": {},
   "source": [
    "Let's use the new functions to create charts for our queries."
   ]
  },
  {
   "cell_type": "code",
   "execution_count": null,
   "metadata": {},
   "outputs": [],
   "source": [
    "# Chart total results\n",
    "chart3 = make_chart_totals(df_queries_merged, 'query', 'Search query')\n",
    "\n",
    "# Chart proportions\n",
    "chart4 = make_chart_proportions(df_queries_merged, 'query', 'Search query')\n",
    "\n",
    "# Shorthand way of concatenating the two charts (note there's only one legend)\n",
    "chart3 & chart4"
   ]
  },
  {
   "cell_type": "markdown",
   "metadata": {},
   "source": [
    "Once again, it's interesting to compare the total results with the proportions. In this case, both point to something interesting happening around 1930. To explore this further we could use the [Trove Newspaper Harvester](https://glam-workbench.github.io/trove-harvester/) to assemble a dataset of articles from 1920 to 1940 for detailed analysis. You might also notice a little peak for 'wireless' around 2011 – new uses for old words!"
   ]
  },
  {
   "cell_type": "markdown",
   "metadata": {},
   "source": [
    "## 6. Comparing a search term across different states\n",
    "\n",
    "Another way of building comparisons over time is to use some of the other facets available in Trove to slice up our search results. For example, the `state` facet tells us the number of results per state. We might be able to use this to track differences in language, or regional interest in particular events.\n",
    "\n",
    "Because we're combining three facets, `state` and `decade`/`year`, we need to think a bit about how we assemble the data. In this case we're only using one search query, but we're repeating this query across a number of different states. We're then getting the data for decade and year for each of the states.\n",
    "\n",
    "The possible values for the `state` facet are:\n",
    "\n",
    "* ACT\n",
    "* New South Wales\n",
    "* Northern Territory\n",
    "* Queensland\n",
    "* South Australia\n",
    "* Tasmania\n",
    "* Victoria\n",
    "* Western Australia\n",
    "* National\n",
    "* International\n",
    "\n",
    "There's some other ways of exploring and visualising the `state` facet in [Visualise the total number of newspaper articles in Trove by year and state](visualise-total-newspaper-articles-by-state-year.ipynb).\n",
    "\n",
    "Let's start by defining a list of states we want to compare...\n"
   ]
  },
  {
   "cell_type": "code",
   "execution_count": null,
   "metadata": {},
   "outputs": [],
   "source": [
    "# A list of state values that we'll supply to the state facet\n",
    "states = [\n",
    "    'New South Wales',\n",
    "    'Victoria'\n",
    "]"
   ]
  },
  {
   "cell_type": "markdown",
   "metadata": {},
   "source": [
    "...and our search query."
   ]
  },
  {
   "cell_type": "code",
   "execution_count": null,
   "metadata": {},
   "outputs": [],
   "source": [
    "# Remember this time we're comparing a single search query across multiple states\n",
    "query = 'Chinese'"
   ]
  },
  {
   "cell_type": "markdown",
   "metadata": {},
   "source": [
    "As before, we'll display both the raw number of results, and the proportion this represents of the total number of articles. But what is the total number of articles in this case? While we could generate a proportion using the totals for each year across all of Trove's newspapers, it seems more useful to use the total number of articles for each state. Otherwise, states with more newspapers will dominate. This means we'll have to make some additional calls to the API to get the state totals as well as the search results.\n",
    "\n",
    "Let's create a couple of new functions. The main function `get_state_facets()` loops through the states in our list, gathering the year by year results. It's similar to the way we handled multiple queries, but this time there's an additional step. Once we have the search results, we use `get_state_totals()` to get the total number of articles published in that state for each year. Then we merge the search results and total articles as we did before."
   ]
  },
  {
   "cell_type": "code",
   "execution_count": null,
   "metadata": {},
   "outputs": [],
   "source": [
    "def get_state_totals(state):\n",
    "    '''\n",
    "    Get the total number of articles for each year for the specified state.\n",
    "    Parameters:\n",
    "        state\n",
    "    Returns:\n",
    "        A list of dictionaries containing 'year', 'total_results'.\n",
    "    ''' \n",
    "    these_params = params.copy()\n",
    "    \n",
    "    # Set the q parameter to a single space to get everything\n",
    "    these_params['q'] = ' '\n",
    "    \n",
    "    # Set the state facet to the given state value\n",
    "    these_params['l-state'] = state\n",
    "    \n",
    "    # Get the year by year data\n",
    "    facet_data = get_facet_data(these_params)\n",
    "    return facet_data\n",
    "\n",
    "\n",
    "def get_state_facets(params, states, query):\n",
    "    '''\n",
    "    Loop through the supplied list of states searching for the specified query and getting the year by year results.\n",
    "    Merges the search results with the total number of articles for that state.\n",
    "    Parameters:\n",
    "        params - basic parameters to send to the API\n",
    "        states - a list of states to apply using the state facet\n",
    "        query - the search query to use\n",
    "    Returns:\n",
    "        A dataframe   \n",
    "    '''\n",
    "    dfs = []\n",
    "    these_params = params.copy()\n",
    "    \n",
    "    # Set the q parameter to the supplied query\n",
    "    these_params['q'] = query\n",
    "    \n",
    "    # Loop through the supplied list of states\n",
    "    for state in states:\n",
    "        \n",
    "        # Set the state facet to the current state value\n",
    "        these_params['l-state'] = state\n",
    "        \n",
    "        # Get year facets for this state & query\n",
    "        facet_data = get_facet_data(these_params)\n",
    "        \n",
    "        # Convert the results to a dataframe\n",
    "        df = pd.DataFrame(facet_data)\n",
    "        \n",
    "        # Get the total number of articles per year for this state\n",
    "        total_data = get_state_totals(state)\n",
    "        \n",
    "        # Convert the totals to a dataframe\n",
    "        df_total = pd.DataFrame(total_data)\n",
    "        \n",
    "        # Merge the two dataframes\n",
    "        df_merged = merge_df_with_total(df, df_total)\n",
    "        \n",
    "        # Add a state column to the dataframe and set its value to the current state\n",
    "        df_merged['state'] = state\n",
    "        \n",
    "        # Add this df to the list of dfs\n",
    "        dfs.append(df_merged)\n",
    "        \n",
    "    # Concatenate all the dataframes and return the result\n",
    "    return pd.concat(dfs)"
   ]
  },
  {
   "cell_type": "markdown",
   "metadata": {},
   "source": [
    "Let's get the data!"
   ]
  },
  {
   "cell_type": "code",
   "execution_count": null,
   "metadata": {},
   "outputs": [],
   "source": [
    "df_states = get_state_facets(params, states, query)"
   ]
  },
  {
   "cell_type": "markdown",
   "metadata": {},
   "source": [
    "And now chart the results, specifying `state` as the column to use for our category."
   ]
  },
  {
   "cell_type": "code",
   "execution_count": null,
   "metadata": {},
   "outputs": [],
   "source": [
    "# Chart totals\n",
    "chart5 = make_chart_totals(df_states, 'state', 'State')\n",
    "\n",
    "# Chart proportions\n",
    "chart6 = make_chart_proportions(df_states, 'state', 'State')\n",
    "\n",
    "# Shorthand way of concatenating the two charts (note there's only one legend)\n",
    "chart5 & chart6"
   ]
  },
  {
   "cell_type": "markdown",
   "metadata": {},
   "source": [
    "Showing the results as a proportion of the total articles for each state does seem to show up some interesting differences. Did 10% of newspaper articles published in Victoria in 1857 really mention 'Chinese'? That seems like something to investigate in more detail.\n",
    "\n",
    "Another way of visualising the number of results per state is by using a map! See [Map newspaper results by state](Map-newspaper-results-by-state.ipynb) for a demonstration."
   ]
  },
  {
   "cell_type": "markdown",
   "metadata": {},
   "source": [
    "## 7. Comparing a search term across different newspapers\n",
    "\n",
    "For a more fine-grained analysis, we might want to compare the contents of different newspapers – how did their coverage or language vary over time? To do this we can use Trove's `title` facet which, despite the name, limits your results to a particular newspaper.\n",
    "\n",
    "The `title` facet expects a numeric newspaper identifier. The easiest way of find this id number is to go to the [list of newspapers](https://trove.nla.gov.au/newspaper/about) and click on the one you're interested in. The id number will be in the url of the newspaper details page. For example, the url of the *Canberra Times* page is:\n",
    "\n",
    "`https://trove.nla.gov.au/newspaper/title/11`\n",
    "\n",
    "So the id number is '11'.\n",
    "\n",
    "As with previous examples, we'll create a list of the newspapers we want to use with the `title` facet. However, the id number on it's own isn't going to be very useful in the legend of our chart, so we'll include the name of the newspaper as well. "
   ]
  },
  {
   "cell_type": "code",
   "execution_count": null,
   "metadata": {},
   "outputs": [],
   "source": [
    "# Create a list of dictionaries, each with the 'id' and 'name' of a newspaper\n",
    "newspapers = [\n",
    "    {'id': 1180, 'name': 'Sydney Sun'},\n",
    "    {'id': 35, 'name': 'Sydney Morning Herald'},\n",
    "    {'id': 1002, 'name': 'Tribune'}\n",
    "]"
   ]
  },
  {
   "cell_type": "code",
   "execution_count": null,
   "metadata": {},
   "outputs": [],
   "source": [
    "# Our search query we want to compare across newspapers\n",
    "query = 'worker'"
   ]
  },
  {
   "cell_type": "markdown",
   "metadata": {},
   "source": [
    "In this case the total number of articles we want to use in calculating the proportion of results is probably the total number of articles published in each particular newspaper. This should allow a more meaningful comparison between, for example, a weekly and a daily newspaper. As in the example above, we'll define a function to loop through the newspapers, and another to get the total number of articles for a given newspaper."
   ]
  },
  {
   "cell_type": "code",
   "execution_count": null,
   "metadata": {},
   "outputs": [],
   "source": [
    "def get_newspaper_totals(newspaper_id):\n",
    "    '''\n",
    "    Get the total number of articles for each year for the specified newspaper.\n",
    "    Parameters:\n",
    "        newspaper_id - numeric Trove newspaper identifier\n",
    "    Returns:\n",
    "        A list of dictionaries containing 'year', 'total_results'.\n",
    "    '''\n",
    "    these_params = params.copy()\n",
    "    \n",
    "    # Set q to a single space for everything\n",
    "    these_params['q'] = ' '\n",
    "    \n",
    "    #Set the title facet to the newspaper_id\n",
    "    these_params['l-title'] = newspaper_id\n",
    "    \n",
    "    # Get all the year by year data\n",
    "    facet_data = get_facet_data(these_params)\n",
    "    return facet_data\n",
    "\n",
    "def get_newspaper_facets(params, newspapers, query):\n",
    "    '''\n",
    "    Loop through the supplied list of newspapers searching for the specified query and getting the year by year results.\n",
    "    Merges the search results with the total number of articles for that newspaper.\n",
    "    Parameters:\n",
    "        params - basic parameters to send to the API\n",
    "        newspapers - a list of dictionaries with the id and name of a newspaper\n",
    "        query - the search query to use\n",
    "    Returns:\n",
    "        A dataframe   \n",
    "    '''\n",
    "    dfs = []\n",
    "    these_params = params.copy()\n",
    "    \n",
    "    # Set the query\n",
    "    these_params['q'] = query\n",
    "    \n",
    "    # Loop through the list of newspapers\n",
    "    for newspaper in newspapers:\n",
    "        \n",
    "        # Sewt the title facet to the id of the current newspaper\n",
    "        these_params['l-title'] = newspaper['id']\n",
    "        \n",
    "        # Get the year by year results for this newspaper\n",
    "        facet_data = get_facet_data(these_params)\n",
    "        \n",
    "        # Convert to a dataframe\n",
    "        df = pd.DataFrame(facet_data)\n",
    "        \n",
    "        # Get the total number of articles published in this newspaper per year\n",
    "        total_data = get_newspaper_totals(newspaper['id'])\n",
    "        \n",
    "        # Convert to a dataframe\n",
    "        df_total = pd.DataFrame(total_data)\n",
    "        \n",
    "        # Merge the two dataframes\n",
    "        df_merged = merge_df_with_total(df, df_total)\n",
    "        \n",
    "        # Create a newspaper column and set its value to the name of the newspaper\n",
    "        df_merged['newspaper'] = newspaper['name']\n",
    "        \n",
    "        # Add the current datarame to the list\n",
    "        dfs.append(df_merged)\n",
    "        \n",
    "    # Concatenate the dataframes and return the result\n",
    "    return pd.concat(dfs)"
   ]
  },
  {
   "cell_type": "markdown",
   "metadata": {},
   "source": [
    "Let's get the data!"
   ]
  },
  {
   "cell_type": "code",
   "execution_count": null,
   "metadata": {},
   "outputs": [],
   "source": [
    "df_newspapers = get_newspaper_facets(params, newspapers, query)"
   ]
  },
  {
   "cell_type": "markdown",
   "metadata": {},
   "source": [
    "And make some charts!"
   ]
  },
  {
   "cell_type": "code",
   "execution_count": null,
   "metadata": {},
   "outputs": [],
   "source": [
    "# Chart totals\n",
    "chart7 = make_chart_totals(df_newspapers, 'newspaper', 'Newspaper')\n",
    "\n",
    "# Chart proportions\n",
    "chart8 = make_chart_proportions(df_newspapers, 'newspaper', 'Newspaper')\n",
    "\n",
    "# Shorthand way of concatenating the two charts (note there's only one legend)\n",
    "chart7 & chart8"
   ]
  },
  {
   "cell_type": "markdown",
   "metadata": {},
   "source": [
    "## 8. Chart changes in illustration types over time\n",
    "\n",
    "Let's try something a bit different and explore the *format* of articles rather than their text content. Trove includes a couple of facets that enable you to filter your search by type of illustration. First of all you have to set the `illustrated` facet to `true`, then you can specify a type of illustration using the `illtype` facet. Possible values include:\n",
    "\n",
    "* Photo\n",
    "* Cartoon\n",
    "* Illustration\n",
    "* Map\n",
    "* Graph\n",
    "\n",
    "First we'll create a list with all the illustration types we're interesed in."
   ]
  },
  {
   "cell_type": "code",
   "execution_count": null,
   "metadata": {},
   "outputs": [],
   "source": [
    "ill_types = [\n",
    "    'Photo',\n",
    "    'Cartoon',\n",
    "    'Illustration',\n",
    "    'Map',\n",
    "    'Graph'\n",
    "]"
   ]
  },
  {
   "cell_type": "markdown",
   "metadata": {},
   "source": [
    "Then we'll define a function to loop through the illustration types getting the year by year results of each."
   ]
  },
  {
   "cell_type": "code",
   "execution_count": null,
   "metadata": {},
   "outputs": [],
   "source": [
    "def get_ill_facets(params, ill_types):\n",
    "    '''\n",
    "    Loop through the supplied list of illustration types getting the year by year results.\n",
    "    Parameters:\n",
    "        params - basic parameters to send to the API\n",
    "        ill_types - a list of illustration types to use with the ill_type facet\n",
    "    Returns:\n",
    "        A dataframe   \n",
    "    '''\n",
    "    dfs = []\n",
    "    ill_params = params.copy()\n",
    "    \n",
    "    # No query! Set q to a single space for everything\n",
    "    ill_params['q'] = ' '\n",
    "    \n",
    "    # Set the illustrated facet to true - necessary before setting ill_type\n",
    "    ill_params['l-illustrated'] = 'true'\n",
    "    \n",
    "    # Loop through the illustration types\n",
    "    for ill_type in ill_types:\n",
    "        \n",
    "        # Set the ill_type facet to the current illustration type\n",
    "        ill_params['l-illtype'] = ill_type\n",
    "        \n",
    "        # Get the year by year data\n",
    "        facet_data = get_facet_data(ill_params)\n",
    "        \n",
    "        # Convert to a dataframe\n",
    "        df = pd.DataFrame(facet_data)\n",
    "        \n",
    "        # Create an ill_type column and set its value to the illustration type \n",
    "        df['ill_type'] = ill_type\n",
    "        \n",
    "        # Add current df to the list of dfs\n",
    "        dfs.append(df)\n",
    "        \n",
    "    # Concatenate all the dfs and return the result\n",
    "    return pd.concat(dfs)"
   ]
  },
  {
   "cell_type": "markdown",
   "metadata": {},
   "source": [
    "Get the data!"
   ]
  },
  {
   "cell_type": "code",
   "execution_count": null,
   "metadata": {},
   "outputs": [],
   "source": [
    "df_illtypes = get_ill_facets(params, ill_types)"
   ]
  },
  {
   "cell_type": "markdown",
   "metadata": {},
   "source": [
    "To calculate proportions for these searches we'll just use the total number of articles across all of Trove we collected above. "
   ]
  },
  {
   "cell_type": "code",
   "execution_count": null,
   "metadata": {},
   "outputs": [],
   "source": [
    "# Merge results with total articles and calculate proportions\n",
    "df_illtypes_merged = merge_df_with_total(df_illtypes, df_total)"
   ]
  },
  {
   "cell_type": "code",
   "execution_count": null,
   "metadata": {},
   "outputs": [],
   "source": [
    "# Make total results chart \n",
    "chart9 = make_chart_totals(df_illtypes_merged, 'ill_type', 'Type')\n",
    "\n",
    "# Make proportions chart\n",
    "chart10 = make_chart_proportions(df_illtypes_merged, 'ill_type', 'Type')\n",
    "\n",
    "# Shorthand way of concatenating the two charts (note there's only one legend)\n",
    "chart9 & chart10"
   ]
  },
  {
   "cell_type": "markdown",
   "metadata": {},
   "source": [
    "And there we have it – interesting to see the rapid increase in photos from the 1920s on."
   ]
  },
  {
   "cell_type": "markdown",
   "metadata": {},
   "source": [
    "## 9. But what are we searching?\n",
    "\n",
    "We've seen that we can visualise Trove search results over time in a number of different ways. But what are we actually searching? In the last example, exploring illustration types, we sliced up the complete collection of Trove newspaper articles using the `ill_type` facet. This is a metadata field whose value is set by the people who processed the articles. It should be consistent, but we can't take these sorts of things for granted. Let's look at all the values in the `illtype` field."
   ]
  },
  {
   "cell_type": "code",
   "execution_count": null,
   "metadata": {},
   "outputs": [],
   "source": [
    "ill_params = params.copy()\n",
    "\n",
    "# No query! Set q to a single space for everything\n",
    "ill_params['q'] = ' '\n",
    "\n",
    "# Set the illustrated facet to true - necessary before setting ill_type\n",
    "ill_params['l-illustrated'] = 'true'\n",
    "ill_params['facet'] = 'illtype'\n",
    "data = get_results(ill_params)\n",
    "facets = []\n",
    "for term in data['response']['zone'][0]['facets']['facet']['term']:\n",
    "    # Get the state and the number of results, and convert it to integers, before adding to our results\n",
    "    facets.append({'ill_type': term['search'], 'total_results': int(term['count'])})\n",
    "df_ill_types = pd.DataFrame(facets)\n",
    "df_ill_types\n",
    "    "
   ]
  },
  {
   "cell_type": "markdown",
   "metadata": {},
   "source": [
    "It's pretty consistent, but why are there entries both for 'Cartoon' and 'Cartoons'? In the past I've noticed variations in capitalisation amongst the facet values, but fortunately these seem to have been fixed. The point is that we can't take search results for granted – we have to think about how they are created.\n",
    "\n",
    "Just as working with the Trove API enables us to view search results in different ways, so we can turn the search results against themselves to reveal some of their limitations and inconsistencies. In most of the examples above we're searching the full text of the newspaper articles for specific terms. The full text has been extracted from page images using Optical Character Recognition. The results are far from perfect, and Trove users help to correct errors. But many errors remain, and all the visualisations we've created will have been affected by them. Some articles will be missing. While we can't do much directly to improve the results, we can investigate whether the OCR errors are evenly distributed across the collection – do certain time periods, or newspapers have higher error rates?\n",
    "\n",
    "As a final example, let's what we can find out about the variation of OCR errors over time. We'll do this by searching for a very common OCR error – 'tbe'. This is of course meant to be 'the'. This is hardly a perfect measure of OCR accuracy, but it is something we can easily measure. How does the frequency of 'tbe' change over time?"
   ]
  },
  {
   "cell_type": "code",
   "execution_count": null,
   "metadata": {},
   "outputs": [],
   "source": [
    "params['q'] = 'text:\"tbe\"~0'\n",
    "\n",
    "ocr_facets = get_facet_data(params)"
   ]
  },
  {
   "cell_type": "code",
   "execution_count": null,
   "metadata": {},
   "outputs": [],
   "source": [
    "df_ocr = pd.DataFrame(ocr_facets)\n",
    "df_ocr_merged = merge_df_with_total(df_ocr, df_total)"
   ]
  },
  {
   "cell_type": "code",
   "execution_count": null,
   "metadata": {},
   "outputs": [],
   "source": [
    "alt.Chart(df_ocr_merged).mark_line(point=True).encode(\n",
    "        x=alt.X('year:Q', axis=alt.Axis(format='c', title='Year')),\n",
    "    \n",
    "        # This time we're showing the proportion (formatted as a percentage) on the Y axis\n",
    "        y=alt.Y('proportion:Q', axis=alt.Axis(format='%', title='Proportion of articles')),\n",
    "        tooltip=[alt.Tooltip('year:Q', title='Year'), alt.Tooltip('proportion:Q', title='Proportion', format='%')],\n",
    "        \n",
    "    ).properties(width=700, height=400)"
   ]
  },
  {
   "cell_type": "markdown",
   "metadata": {},
   "source": [
    "In general, the proportion of articles containing 'tbe' decreases over time. This is perhaps due to improvements in paper, printing technology, or the use of more OCR-friendly fonts. The variations in the period before 1860 seem unusual. Have a greater proportion of these articles been corrected by volunteers? There might also be differences as a result of the digitisation process itself – most newspapers were digitised from microfilm, rather than hardcopy. How might that affect the results? Once again, this visualisation doesn't provide answers, but it does suggest some avenues for further investigation. Most importantly though, it suggests ways in which the accuracy of our visualisations might themselves vary over time!\n",
    "\n",
    "One final thing we should consider is that our visualisations all show the *number of articles* that match our search query, **not** the number of times our search terms appear in newspapers. So an article in which a search term appears once has the same value in our visualisation as an article in which a search terms appears 20 times. This might mean that periods of intensive discussion around particular words are being flattened, or even rendered invisible. We can't investigate this using Trove's own search interface. To examine word frequency in greater depth, we need to harvest the text content of all the articles we're interested in and use other tools to analyse their contents. That's what the [Trove Newspaper Harvester](https://glam-workbench.github.io/trove-harvester/) is for!"
   ]
  },
  {
   "cell_type": "markdown",
   "metadata": {},
   "source": [
    "## 10. Next steps\n",
    "\n",
    "Don't just use my examples, try plugging different search terms and facet values into the examples above. \n",
    "\n",
    "If you find something that you'd like to investigate in more detail, you can use the [Trove Newspaper Harvester](https://glam-workbench.github.io/trove-harvester/) to download newspaper articles in bulk. Once you have all the text and metadata, you can explore the articles using a variety of text analysis tools."
   ]
  },
  {
   "cell_type": "markdown",
   "metadata": {},
   "source": [
    "## 11. Related resources"
   ]
  },
  {
   "cell_type": "markdown",
   "metadata": {},
   "source": [
    "### QueryPic\n",
    "\n",
    "[QueryPic](http://dhistory.org/querypic/) is an earlier tool I created for visualising newspaper searches in Trove (and Papers Past). It's great for creating and sharing quick visualisations. It's not quite as flexible as the approaches outlined here, but it's a good place to start your exploration of Trove data.\n",
    "\n",
    "\n",
    "### QueryPic Deconstructed\n",
    "\n",
    "This is [a Jupyter notebook version of QueryPic](https://glam-workbench.github.io/trove-newspapers/#querypic-deconstructed) that extends some of its functionality. It's meant to be run in Appmode, so you don't have worry about the code. It reproduces most of what is available in this notebook, and adds some extra options for saving your charts. A good option if you're intimidated by the code, but want to try out some of the things described in this notebook.\n",
    "\n",
    "### Visualise a search in Papers Past\n",
    "\n",
    "Do something similar for New Zealand newspapers in Papers Past [using this notebook](https://glam-workbench.github.io/digitalnz/#visualise-a-search-in-papers-past).\n",
    "\n",
    "### Trove Newspaper Harvester\n",
    "\n",
    "Once you've found something interesting in your visualisations, you can use the [Trove Newspaper Harvester](https://glam-workbench.github.io/trove-harvester/) to download the full text of thousands of articles for in-depth analysis.\n",
    "\n",
    "## 12. Further reading\n",
    "\n",
    "* Tim Sherratt, ['Seams and edges: dreams of aggregation, access, and discovery in a broken world'](http://discontents.com.au/seams-and-edges-dreams-of-aggregation-access-discovery-in-a-broken-world/), ALIA Online, 2015.\n",
    "\n",
    "* Tim Sherratt, ['Hacking heritage: understanding the limits of online access'](https://hcommons.org/deposits/item/hc:18733/), preprint of a chapter submitted for publication as part of *The Routledge International Handbook of New Digital Practices in Galleries, Libraries, Archives, Museums and Heritage Sites*, forthcoming 2019."
   ]
  },
  {
   "cell_type": "markdown",
   "metadata": {},
   "source": [
    "----\n",
    "\n",
    "Created by [Tim Sherratt](https://timsherratt.org/).\n",
    "\n",
    "Work on this notebook was supported by the [Humanities, Arts and Social Sciences (HASS) Data Enhanced Virtual Lab](https://tinker.edu.au/)."
   ]
  }
 ],
 "metadata": {
  "kernelspec": {
   "display_name": "Python 3",
   "language": "python",
   "name": "python3"
  },
  "language_info": {
   "codemirror_mode": {
    "name": "ipython",
    "version": 3
   },
   "file_extension": ".py",
   "mimetype": "text/x-python",
   "name": "python",
   "nbconvert_exporter": "python",
   "pygments_lexer": "ipython3",
   "version": "3.7.3"
  }
 },
 "nbformat": 4,
 "nbformat_minor": 4
}
